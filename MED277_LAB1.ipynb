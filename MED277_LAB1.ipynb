{
 "cells": [
  {
   "cell_type": "markdown",
   "id": "9ff0be3d-13c4-466e-ae81-12961cdcf79b",
   "metadata": {},
   "source": [
    "Lorenzo Olmo Marchal\n",
    "A17013640\n",
    "MED 277 Lab 1"
   ]
  },
  {
   "cell_type": "markdown",
   "id": "85cbeb14-5d9c-48a7-a16d-9e3ff1020238",
   "metadata": {},
   "source": [
    "# Imports"
   ]
  },
  {
   "cell_type": "code",
   "execution_count": 117,
   "id": "d311fc36-ecfa-4d92-8cd6-8d890a9dab44",
   "metadata": {},
   "outputs": [
    {
     "name": "stderr",
     "output_type": "stream",
     "text": [
      "[nltk_data] Downloading package punkt_tab to\n",
      "[nltk_data]     /Users/Reginald/nltk_data...\n",
      "[nltk_data]   Package punkt_tab is already up-to-date!\n",
      "[nltk_data] Downloading package averaged_perceptron_tagger_eng to\n",
      "[nltk_data]     /Users/Reginald/nltk_data...\n",
      "[nltk_data]   Unzipping taggers/averaged_perceptron_tagger_eng.zip.\n"
     ]
    },
    {
     "data": {
      "text/plain": [
       "True"
      ]
     },
     "execution_count": 117,
     "metadata": {},
     "output_type": "execute_result"
    }
   ],
   "source": [
    "import re\n",
    "import os\n",
    "import nltk\n",
    "from nltk import word_tokenize\n",
    "import pandas as pd\n",
    "nltk.download('punkt_tab')\n",
    "nltk.download('averaged_perceptron_tagger_eng')"
   ]
  },
  {
   "cell_type": "markdown",
   "id": "06a65ab4-547c-4759-8634-851a4b605a3f",
   "metadata": {},
   "source": [
    "# PART 1: Discharge Summaries"
   ]
  },
  {
   "cell_type": "markdown",
   "id": "12c15fe7-da40-44ef-86f7-474e90acea20",
   "metadata": {},
   "source": [
    "### Uploading"
   ]
  },
  {
   "cell_type": "code",
   "execution_count": 90,
   "id": "b1ab9ddd-eba4-43a8-9f2b-6f496a3c9d5b",
   "metadata": {},
   "outputs": [],
   "source": [
    "\"\"\"\n",
    "Dataset consists of 20 discharge summaries from Kaggle. \n",
    "\"\"\"\n",
    "directory = \"./dataset_for_lab1\"\n",
    "discharge_paths = []\n",
    "for item in os.listdir(directory):\n",
    "    if \"discharge\" in item.lower():\n",
    "        discharge_paths.append(os.path.join(directory, item))"
   ]
  },
  {
   "cell_type": "markdown",
   "id": "f7af8cfc-e1b2-474a-be5f-37f06c15d075",
   "metadata": {},
   "source": [
    "### Extracting Information"
   ]
  },
  {
   "cell_type": "markdown",
   "id": "98647165-4cc3-4221-a6a5-d98feec01927",
   "metadata": {},
   "source": [
    "- | is the logical or\n",
    "- .* will match any character (like spaces) between the first and second word\n",
    "- \\S* will match any non-white space character"
   ]
  },
  {
   "cell_type": "code",
   "execution_count": 83,
   "id": "aa4b25f1-7018-45af-9d4e-562f356fb342",
   "metadata": {},
   "outputs": [],
   "source": [
    "def find_dcdx_section(fname):\n",
    "    # this translates to any string containing discharged following any character followed by \n",
    "    #DIAGNO with a match to any non-white space character\n",
    "    # or the reverse order\n",
    "    start = None\n",
    "    end = None\n",
    "    discharge_pattern = r\"((DISCHARGE.*DIAGNO\\S*)|(DIAGNO\\S*.*DISCHARGE))\"\n",
    "    # translates to new line followed by any one or more uppercase letters or spaces\n",
    "\n",
    "    other_sections = r'((\\n[A-Z\\s]+:?(?=\\s*\\n|$))|(To be followed))'\n",
    "    with open(fname, \"r\") as f:\n",
    "        text = f.read()\n",
    "        diagnosis_header = re.search(discharge_pattern, text)\n",
    "        if diagnosis_header:\n",
    "            start = diagnosis_header.end()\n",
    "        ending_header = re.search(other_sections, text[start:])\n",
    "        if ending_header:\n",
    "            end = ending_header.start()\n",
    "        section_name = text[diagnosis_header.start():diagnosis_header.end()+1]\n",
    "        if start is not None:\n",
    "            if end is not None:\n",
    "                section = text[start:start+end]\n",
    "            else:\n",
    "                section = text[start:]\n",
    "                end = len(text)\n",
    "    return section, section_name, start, end\n",
    "\n",
    "\n",
    "# given the discharge text get the diagnosis as a list\n",
    "def find_dcdx_text(input_text, start):\n",
    "    regex = r\"(?:\\d+\\.\\s+)?([A-Za-z0-9\\s,\\-]+(?:\\sof\\s[A-Za-z\\s\\-]+)?(?:\\-[A-Za-z0-9\\s\\-]+)*\\s?(?:\\d+\\syears\\sago)?\\.\\s*)(?=\\n{2}|\\s*$)\"\n",
    "    text = []\n",
    "    matches = re.finditer(regex, input_text)\n",
    "    for match in matches: \n",
    "        text.append({\"Text\":match.group(1).strip(), \"start\": match.start(1) + start,\"end\": match.end(1) + start})\n",
    "    \n",
    "    return text\n",
    "            \n",
    "        \n",
    "    "
   ]
  },
  {
   "cell_type": "code",
   "execution_count": 182,
   "id": "5a01a81c-cf41-4d9f-9a83-892b76c52d6d",
   "metadata": {},
   "outputs": [],
   "source": [
    "discharges = []\n",
    "\n",
    "for file in discharge_paths:\n",
    "    file_name = os.path.basename(file)\n",
    "    section, section_name, start, end = find_dcdx_section(file)\n",
    "    diagnosis = find_dcdx_text(section, start)\n",
    "    for item in diagnosis:\n",
    "        discharges.append({\"Document\": file_name, \"start\": item[\"start\"], \"end\": item[\"end\"], \"text\": item['Text']})\n",
    "all_discharges = pd.DataFrame(discharges)\n",
    "\n",
    "all_discharges.to_csv(\"./discharge_reports.csv\", index = False, sep = \"\\t\")"
   ]
  },
  {
   "cell_type": "markdown",
   "id": "03a6877c-b2b1-4284-a34e-8c291421f808",
   "metadata": {},
   "source": [
    "# PART 2: Radiology Reports"
   ]
  },
  {
   "cell_type": "markdown",
   "id": "4401b5f6-b65f-4492-a31c-b76d742df428",
   "metadata": {},
   "source": [
    " ### Uploading"
   ]
  },
  {
   "cell_type": "code",
   "execution_count": 88,
   "id": "eb3c2123-5ccb-40ea-b715-4f8e8870b576",
   "metadata": {},
   "outputs": [],
   "source": [
    "\"\"\"\n",
    "Dataset consists of radiology reports. \n",
    "\"\"\"\n",
    "directory = \"./dataset_for_lab1\"\n",
    "radiology_paths = []\n",
    "for item in os.listdir(directory):\n",
    "    \n",
    "    if \"radiology\" in item.lower():\n",
    "        radiology_paths.append(os.path.join(directory, item))"
   ]
  },
  {
   "cell_type": "markdown",
   "id": "71d50baf-5e1f-499f-a315-d21a0cacb004",
   "metadata": {},
   "source": [
    "### Extracting information"
   ]
  },
  {
   "cell_type": "code",
   "execution_count": 124,
   "id": "1c05cb4e-1478-4bd0-88e6-1a995499346c",
   "metadata": {},
   "outputs": [],
   "source": [
    "\n",
    "def find_imp_section(fname):\n",
    "\n",
    "    start = None\n",
    "    end = None\n",
    "    section_name = None\n",
    "    section = None\n",
    "\n",
    "    discharge_pattern = r\"(IMPRESSIONS?|FINDINGS?):?\\s*\"\n",
    "    other_sections = r'(\\n[A-Z\\s]+:?(?=\\s*\\n|$))'\n",
    "\n",
    "    with open(fname, \"r\") as f:\n",
    "        text = f.read()\n",
    "        diagnosis_header = re.search(discharge_pattern, text)\n",
    "        if diagnosis_header:\n",
    "            start = diagnosis_header.end()\n",
    "        ending_header = re.search(other_sections, text[start:])\n",
    "        if ending_header and start is not None:\n",
    "            end = start + ending_header.start()\n",
    "\n",
    "        if start is not None:\n",
    "            section_name = text[diagnosis_header.start():diagnosis_header.end()].strip()\n",
    "            if end is not None:\n",
    "                section = text[start:end].strip()\n",
    "            else:\n",
    "                section = text[start:].strip()\n",
    "                end = len(text)\n",
    "\n",
    "    return section, section_name, start, end\n",
    "# find the nouns or noun phrases (NN,NNS, NNP, NNPS tags)\n",
    "def find_noun_list(input_text):\n",
    "    noun_list = []\n",
    "    valid_tags = [\"NN\", \"NNS\", \"NNP\", \"NNPS\"]\n",
    "    text = word_tokenize(input_text)\n",
    "    tags = nltk.pos_tag(text)\n",
    "    for item in tags:\n",
    "        if item[1] in valid_tags:\n",
    "            noun_list.append({\"word\": item[0], \"tag\": item[1]})\n",
    "    return noun_list\n",
    "\n"
   ]
  },
  {
   "cell_type": "code",
   "execution_count": 183,
   "id": "ef221e6d-ad44-4aa6-a36e-0ea34648c75b",
   "metadata": {},
   "outputs": [],
   "source": [
    "radiology_reports = []\n",
    "for file in radiology_paths:\n",
    "    file_name = os.path.basename(file)\n",
    "    section, section_name, start, end = find_imp_section(file)\n",
    "    if section is not None:\n",
    "        noun_list = find_noun_list(section)\n",
    "        for item in noun_list:\n",
    "            radiology_reports.append({\"Document\": file_name, \"noun part of speech\": item[\"tag\"], \"text\": item[\"word\"]})\n",
    "radiology_reports = pd.DataFrame(radiology_reports)\n",
    "radiology_reports.to_csv(\"./radiology_reports.csv\", index = False, sep = \"\\t\")"
   ]
  },
  {
   "cell_type": "markdown",
   "id": "69abcc49-8d36-453c-99fc-746f3a75c954",
   "metadata": {},
   "source": [
    "# Calculating Precision and Recall"
   ]
  },
  {
   "attachments": {
    "d226e395-f293-475d-9eec-30d89d27bf89.png": {
     "image/png": "[encoded data removed]"
    }
   },
   "cell_type": "markdown",
   "id": "f9ecb452-4ea0-4ba1-bd5c-7a9a0d64b8f0",
   "metadata": {},
   "source": [
    "# ![image.png](attachment:d226e395-f293-475d-9eec-30d89d27bf89.png)"
   ]
  },
  {
   "cell_type": "markdown",
   "id": "7a4f4105-56c1-4634-8e3b-a978e01520bd",
   "metadata": {},
   "source": [
    "In this case, we will be defining True positives as events that match the ground truth (nouns/diagnoses present in the provided ground truth files). False positives will be marked as nouns/diagnosed included by my method not included in the ground truth. False negatives are those not included by my method included by the ground truth.  "
   ]
  },
  {
   "cell_type": "code",
   "execution_count": 179,
   "id": "66008131-f303-4db0-ab97-d8a982ee6cbd",
   "metadata": {},
   "outputs": [],
   "source": [
    "def strip_text(row):\n",
    "    return row.strip()\n",
    "\n",
    "def get_matrix(gt, df):\n",
    "    gt[\"text\"] = gt[\"text\"].apply(strip_text)\n",
    "    FN = 0  \n",
    "    FP = 0  \n",
    "    TP = 0  \n",
    "    for i, row in gt.iterrows():\n",
    "        text = row[\"text\"].strip()\n",
    "        file = row[\"Document\"]\n",
    "        \n",
    "        # Check if ground truth text exists in df\n",
    "        if df.loc[(df[\"Document\"] == file) & (df[\"text\"] == text)].empty:\n",
    "            #print(f\"FN: {text} in {file}\")\n",
    "            FN += 1\n",
    "        else:\n",
    "            #print(f\"TP: {text} in {file}\")\n",
    "            TP += 1\n",
    "\n",
    "    for i, row in df.iterrows():\n",
    "        text = row[\"text\"]\n",
    "        file = row[\"Document\"]\n",
    "        if gt.loc[(gt[\"Document\"] == file) & (gt[\"text\"] == text)].empty:\n",
    "            #print(f\"FP: {text} in {file}\")\n",
    "            FP += 1\n",
    "    \n",
    "    return FN, FP, TP\n",
    "def recall(TP, FN):\n",
    "    return (TP)/(TP+FN)\n",
    "def precision(TP, FP):\n",
    "    return (TP)/(TP+FP)\n",
    "    \n"
   ]
  },
  {
   "cell_type": "markdown",
   "id": "c1ced330-06ee-45cc-bcc4-cae3777234e7",
   "metadata": {},
   "source": [
    "### Precision and Recall for discharge diagnoses"
   ]
  },
  {
   "cell_type": "code",
   "execution_count": 180,
   "id": "c856ceb2-645f-4407-8391-8d8351d542c0",
   "metadata": {},
   "outputs": [
    {
     "name": "stdout",
     "output_type": "stream",
     "text": [
      "recall: 0.9318181818181818\n",
      "precision: 0.9425287356321839\n"
     ]
    }
   ],
   "source": [
    "FN, FP, TP = get_matrix(gt_diagnoses, all_discharges)\n",
    "recall_score = recall(TP, FN)\n",
    "precision_score = precision(TP, FP)\n",
    "\n",
    "print(f\"recall: {recall_score}\")\n",
    "print(f\"precision: {precision_score}\")"
   ]
  },
  {
   "cell_type": "markdown",
   "id": "2f6e0eb2-8b9d-4c2c-8c45-9405526b2bbc",
   "metadata": {},
   "source": [
    "### Precision and Recall for radiology reports"
   ]
  },
  {
   "cell_type": "code",
   "execution_count": 181,
   "id": "d8f49688-9b6d-48b4-af20-5ec019ba1e4d",
   "metadata": {},
   "outputs": [
    {
     "name": "stdout",
     "output_type": "stream",
     "text": [
      "recall: 1.0\n",
      "precision: 1.0\n"
     ]
    }
   ],
   "source": [
    "FN, FP, TP = get_matrix(gt_radiology, radiology_reports)\n",
    "recall_score = recall(TP, FN)\n",
    "precision_score = precision(TP, FP)\n",
    "\n",
    "print(f\"recall: {recall_score}\")\n",
    "print(f\"precision: {precision_score}\")"
   ]
  }
 ],
 "metadata": {
  "kernelspec": {
   "display_name": "Python 3 (ipykernel)",
   "language": "python",
   "name": "python3"
  },
  "language_info": {
   "codemirror_mode": {
    "name": "ipython",
    "version": 3
   },
   "file_extension": ".py",
   "mimetype": "text/x-python",
   "name": "python",
   "nbconvert_exporter": "python",
   "pygments_lexer": "ipython3",
   "version": "3.12.4"
  }
 },
 "nbformat": 4,
 "nbformat_minor": 5
}
